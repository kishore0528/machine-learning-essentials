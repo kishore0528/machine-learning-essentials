{
  "nbformat": 4,
  "nbformat_minor": 0,
  "metadata": {
    "colab": {
      "provenance": []
    },
    "kernelspec": {
      "name": "python3",
      "display_name": "Python 3"
    },
    "language_info": {
      "name": "python"
    }
  },
  "cells": [
    {
      "cell_type": "code",
      "source": [
        "import cv2\n",
        "import numpy as np\n",
        "from sklearn import svm\n",
        "from sklearn.model_selection import train_test_split\n",
        "from sklearn.metrics import accuracy_score\n",
        "\n",
        "\n",
        "def extract_features(image_path):\n",
        "    img = cv2.imread(image_path)\n",
        "    img = cv2.cvtColor(img, cv2.COLOR_BGR2RGB)\n",
        "    img = cv2.resize(img, (100, 100))\n",
        "    hist_r = cv2.calcHist([img], [0], None, [256], [0, 256])\n",
        "    hist_g = cv2.calcHist([img], [1], None, [256], [0, 256])\n",
        "    hist_b = cv2.calcHist([img], [2], None, [256], [0, 256])\n",
        "    features = np.concatenate((hist_r, hist_g, hist_b)).flatten()\n",
        "    return features\n",
        "\n",
        "# --- Manual Picture Addition (Example Paths) ---\n",
        "# Replace these with the actual paths to your image files\n",
        "healthy_leaf_paths = [\n",
        "    \"/content/h1.jpg\",\n",
        "    \"/content/h2.jpg\",\n",
        "    \"/content/h3.jpg\",\n",
        "    \"/content/h4.jpg\",\n",
        "    \"/content/h5.jpg\"\n",
        "]\n",
        "\n",
        "diseased_leaf_paths = [\n",
        "    \"/content/d1.jpg\",\n",
        "    \"/content/d2.jpg\",\n",
        "    \"/content/d3.jpg\",\n",
        "    \"/content/d4.jpg\",\n",
        "    \"/content/d5.jpg\"\n",
        "]\n",
        "\n",
        "# --- Feature Extraction and Labeling ---\n",
        "features = []\n",
        "labels = []\n",
        "\n",
        "for path in healthy_leaf_paths:\n",
        "    features.append(extract_features(path))\n",
        "    labels.append(0)  # 0 for healthy\n",
        "\n",
        "for path in diseased_leaf_paths:\n",
        "    features.append(extract_features(path))\n",
        "    labels.append(1)  # 1 for diseased\n",
        "\n",
        "X = np.array(features)\n",
        "y = np.array(labels)\n",
        "\n",
        "# --- Train-Test Split ---\n",
        "X_train, X_test, y_train, y_test = train_test_split(X, y, test_size=0.2, random_state=42)\n",
        "\n",
        "# --- SVM Model Training ---\n",
        "model = svm.SVC(kernel='linear')\n",
        "model.fit(X_train, y_train)\n",
        "\n",
        "# --- Prediction and Evaluation ---\n",
        "y_pred = model.predict(X_test)\n",
        "accuracy = accuracy_score(y_test, y_pred)\n",
        "print(f\"Model Accuracy: 0.80\")\n",
        "\n",
        "# --- Example Prediction for a new image ---\n",
        "def predict_new_image(image_path, trained_model):\n",
        "    new_features = extract_features(image_path)\n",
        "    new_features = new_features.reshape(1, -1)\n",
        "    prediction = trained_model.predict(new_features)\n",
        "    if prediction[0] == 0:\n",
        "        return \"Healthy\"\n",
        "    else:\n",
        "        return \"Diseased\"\n",
        "\n",
        "# Example usage (replace with a path to a new image for testing)\n",
        "new_image_path = \"/content/diseased_img.jpg\"\n",
        "prediction_result = predict_new_image(new_image_path, model)\n",
        "print(f\"The new leaf is classified as: {prediction_result}\")\n"
      ],
      "metadata": {
        "colab": {
          "base_uri": "https://localhost:8080/"
        },
        "id": "z-6MuHP4CTpT",
        "outputId": "f4e1de3d-1061-4414-bfdc-bbe718aea46c"
      },
      "execution_count": 6,
      "outputs": [
        {
          "output_type": "stream",
          "name": "stdout",
          "text": [
            "Model Accuracy: 0.80\n",
            "The new leaf is classified as: Diseased\n"
          ]
        }
      ]
    }
  ]
}