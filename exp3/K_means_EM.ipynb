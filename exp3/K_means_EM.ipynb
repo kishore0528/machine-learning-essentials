{
  "nbformat": 4,
  "nbformat_minor": 0,
  "metadata": {
    "colab": {
      "provenance": []
    },
    "kernelspec": {
      "name": "python3",
      "display_name": "Python 3"
    },
    "language_info": {
      "name": "python"
    }
  },
  "cells": [
    {
      "cell_type": "code",
      "source": [
        "import pandas as pd\n",
        "from sklearn.cluster import KMeans\n",
        "from sklearn.mixture import GaussianMixture\n",
        "from sklearn.metrics import silhouette_score\n",
        "\n",
        "# --- Load dataset ---\n",
        "data = pd.read_csv(\"patient_data1.csv\")\n",
        "X = data[['Age', 'Glucose', 'BloodPressure', 'Insulin', 'BMI']]\n",
        "\n",
        "# --- K-Means ---\n",
        "kmeans = KMeans(n_clusters=3, random_state=42)\n",
        "k_labels = kmeans.fit_predict(X)\n",
        "k_score = silhouette_score(X, k_labels)\n",
        "\n",
        "# --- EM (Gaussian Mixture Model) ---\n",
        "gmm = GaussianMixture(n_components=3, random_state=42)\n",
        "g_labels = gmm.fit_predict(X)\n",
        "g_score = silhouette_score(X, g_labels)\n",
        "\n",
        "# --- Compare and Display Results ---\n",
        "print(f\"K-Means Silhouette Score: {k_score:.3f}\")\n",
        "print(f\"EM (GMM) Silhouette Score: {g_score:.3f}\")\n",
        "\n",
        "if g_score > k_score:\n",
        "    print(\"\\n✅ EM (Gaussian Mixture) performs better.\")\n",
        "    data['Cluster'] = g_labels\n",
        "else:\n",
        "    print(\"\\n✅ K-Means performs better.\")\n",
        "    data['Cluster'] = k_labels\n",
        "\n",
        "# --- Simple Treatment Plan based on Clusters ---\n",
        "for c in range(3):\n",
        "    group = data[data['Cluster'] == c]\n",
        "    avg_age = group['Age'].mean()\n",
        "    avg_glucose = group['Glucose'].mean()\n",
        "    avg_bp = group['BloodPressure'].mean()\n",
        "    avg_insulin = group['Insulin'].mean()\n",
        "    avg_bmi = group['BMI'].mean()\n",
        "\n",
        "    print(f\"\\nCluster {c+1} — Avg(Age): {avg_age:.1f}, Glucose: {avg_glucose:.1f}, BP: {avg_bp:.1f}, \"\n",
        "          f\"Insulin: {avg_insulin:.1f}, BMI: {avg_bmi:.1f}\")\n",
        "\n",
        "    if avg_glucose > 160 or avg_bmi > 28 or avg_bp > 90:\n",
        "        print(\"  → Suggested Treatment: Intensive care + glucose & weight control\")\n",
        "    elif avg_glucose > 130:\n",
        "        print(\"  → Suggested Treatment: Mild medication + balanced diet + exercise\")\n",
        "    else:\n",
        "        print(\"  → Suggested Treatment: Routine check-up only\")\n"
      ],
      "metadata": {
        "colab": {
          "base_uri": "https://localhost:8080/"
        },
        "id": "Z-DBW6VbUlHp",
        "outputId": "8c91443b-46c0-4477-dee9-65795c4ac680"
      },
      "execution_count": 11,
      "outputs": [
        {
          "output_type": "stream",
          "name": "stdout",
          "text": [
            "K-Means Silhouette Score: 0.527\n",
            "EM (GMM) Silhouette Score: 0.310\n",
            "\n",
            "✅ K-Means performs better.\n",
            "\n",
            "Cluster 1 — Avg(Age): 34.8, Glucose: 158.4, BP: 72.0, Insulin: 441.3, BMI: 35.1\n",
            "  → Suggested Treatment: Intensive care + glucose & weight control\n",
            "\n",
            "Cluster 2 — Avg(Age): 33.8, Glucose: 114.0, BP: 67.8, Insulin: 14.4, BMI: 30.8\n",
            "  → Suggested Treatment: Intensive care + glucose & weight control\n",
            "\n",
            "Cluster 3 — Avg(Age): 31.9, Glucose: 129.3, BP: 71.4, Insulin: 159.1, BMI: 34.0\n",
            "  → Suggested Treatment: Intensive care + glucose & weight control\n"
          ]
        }
      ]
    }
  ]
}