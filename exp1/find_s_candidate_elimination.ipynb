{
  "nbformat": 4,
  "nbformat_minor": 0,
  "metadata": {
    "colab": {
      "provenance": []
    },
    "kernelspec": {
      "name": "python3",
      "display_name": "Python 3"
    },
    "language_info": {
      "name": "python"
    }
  },
  "cells": [
    {
      "cell_type": "code",
      "execution_count": 6,
      "metadata": {
        "colab": {
          "base_uri": "https://localhost:8080/"
        },
        "id": "yQMYASlFl8gJ",
        "outputId": "99570e14-93b3-466f-fc47-97f37a0b2568"
      },
      "outputs": [
        {
          "output_type": "stream",
          "name": "stdout",
          "text": [
            "Find-S: ['Young' 'Male' '?' 'Clothing' '?']\n",
            "Candidate Elimination: (array(['Young', 'Male', '?', 'Clothing', '?'], dtype=object), [['?', '?', '?', '?', '?'], ['?', '?', 'High', '?', '?'], ['?', '?', '?', '?', 'Weekend']])\n"
          ]
        }
      ],
      "source": [
        "import pandas as pd\n",
        "import numpy as np\n",
        "\n",
        "# Customer purchase dataset\n",
        "dataset = [\n",
        "    ['Young', 'Male', 'Low', 'Clothing', 'Weekend', 'Yes'],\n",
        "    ['Young', 'Male', 'Medium', 'Clothing', 'Weekday', 'Yes'],\n",
        "    ['Old', 'Female', 'High', 'Accessories', 'Weekend', 'No'],\n",
        "    ['Young', 'Male', 'Medium', 'Clothing', 'Weekend', 'Yes']\n",
        "]\n",
        "\n",
        "df = pd.DataFrame(dataset, columns=['Age', 'Gender', 'Income', 'Category', 'Day', 'Purchase'])\n",
        "\n",
        "# --- FIND-S ALGORITHM ---\n",
        "def findS(df):\n",
        "    concept = df.iloc[:, :-1].values\n",
        "    target = df.iloc[:, -1].values\n",
        "    h = concept[0].copy()\n",
        "    for i, val in enumerate(target):\n",
        "        if val == 'Yes':\n",
        "            for j in range(len(h)):\n",
        "                if concept[i][j] != h[j]:\n",
        "                    h[j] = '?'\n",
        "    return h\n",
        "\n",
        "# --- CANDIDATE ELIMINATION ALGORITHM ---\n",
        "def candidateElimination(df):\n",
        "    concept = df.iloc[:, :-1].values\n",
        "    target = df.iloc[:, -1].values\n",
        "    n = len(concept[0])\n",
        "    G = [['?' for _ in range(n)]]\n",
        "    S = np.array(['0'] * n)\n",
        "\n",
        "    for i, val in enumerate(target):\n",
        "        if val == 'Yes':\n",
        "            if np.all(S == '0'):\n",
        "                S = concept[i].copy()\n",
        "            for j in range(n):\n",
        "                if S[j] != concept[i][j]:\n",
        "                    S[j] = '?'\n",
        "            G = [g for g in G if all(g[k] == '?' or S[k] == '?' or g[k] == S[k] for k in range(n))]\n",
        "        else:\n",
        "            G_new = []\n",
        "            for g in G:\n",
        "                for j in range(n):\n",
        "                    if g[j] == '?':\n",
        "                        new_g = g.copy()\n",
        "                        new_g[j] = concept[i][j]\n",
        "                        G_new.append(new_g)\n",
        "            G += G_new\n",
        "    return S, G\n",
        "\n",
        "print(\"Find-S:\", findS(df))\n",
        "print(\"Candidate Elimination:\", candidateElimination(df))\n"
      ]
    },
    {
      "cell_type": "code",
      "source": [
        "import pandas as pd\n",
        "import numpy as np\n",
        "\n",
        "# --- Customer Purchase Dataset (10 records) ---\n",
        "data = [\n",
        "    ['Young', 'Male', 'Low', 'Clothing', 'Weekend', 'Yes'],\n",
        "    ['Young', 'Male', 'Medium', 'Clothing', 'Weekday', 'Yes'],\n",
        "    ['Old', 'Female', 'High', 'Accessories', 'Weekend', 'No'],\n",
        "    ['Young', 'Male', 'Medium', 'Clothing', 'Weekend', 'Yes'],\n",
        "    ['Middle', 'Male', 'Low', 'Clothing', 'Weekend', 'Yes'],\n",
        "    ['Old', 'Male', 'High', 'Accessories', 'Weekday', 'No'],\n",
        "    ['Young', 'Male', 'Low', 'Clothing', 'Weekday', 'Yes'],\n",
        "    ['Young', 'Female', 'Low', 'Clothing', 'Weekend', 'No'],\n",
        "    ['Young', 'Male', 'Medium', 'Clothing', 'Weekend', 'Yes'],\n",
        "    ['Middle', 'Male', 'Medium', 'Clothing', 'Weekend', 'Yes']\n",
        "]\n",
        "\n",
        "df = pd.DataFrame(data, columns=['Age', 'Gender', 'Income', 'Category', 'Day', 'Purchase'])\n",
        "\n",
        "# --- FIND-S ---\n",
        "def findS(df):\n",
        "    concept = df.iloc[:, :-1].values\n",
        "    target = df.iloc[:, -1].values\n",
        "    h = concept[0].copy()\n",
        "    for i, val in enumerate(target):\n",
        "        if val == 'Yes':\n",
        "            for j in range(len(h)):\n",
        "                if concept[i][j] != h[j]:\n",
        "                    h[j] = '?'\n",
        "    return h\n",
        "\n",
        "# --- CANDIDATE ELIMINATION ---\n",
        "def candidateElimination(df):\n",
        "    concept = df.iloc[:, :-1].values\n",
        "    target = df.iloc[:, -1].values\n",
        "    n = len(concept[0])\n",
        "    S = concept[0].copy()\n",
        "    G = [['?' for _ in range(n)]]\n",
        "\n",
        "    for i, val in enumerate(target):\n",
        "        if val == 'Yes':\n",
        "            for j in range(n):\n",
        "                if S[j] != concept[i][j]:\n",
        "                    S[j] = '?'\n",
        "            G = [g for g in G if all(g[k] == '?' or g[k] == S[k] for k in range(n))]\n",
        "        else:\n",
        "            G_new = []\n",
        "            for g in G:\n",
        "                for j in range(n):\n",
        "                    if g[j] == '?':\n",
        "                        new_g = g.copy()\n",
        "                        new_g[j] = concept[i][j]\n",
        "                        if all(new_g[k] == '?' or new_g[k] == S[k] or S[k] == '?' for k in range(n)):\n",
        "                            G_new.append(new_g)\n",
        "            G += G_new\n",
        "            G = [list(x) for x in set(tuple(x) for x in G)]  # remove duplicates\n",
        "    return S, G\n",
        "\n",
        "# --- Run algorithms ---\n",
        "S, G = candidateElimination(df)\n",
        "print(\"Find-S:\", findS(df))\n",
        "print(\"\\nCandidate Elimination:\")\n",
        "print(\"Specific Boundary:\", [list(S)])\n",
        "print(\"General Boundary (as matrix):\")\n",
        "for row in G:\n",
        "    print(row)\n"
      ],
      "metadata": {
        "colab": {
          "base_uri": "https://localhost:8080/"
        },
        "id": "bFi8IRuFsAKL",
        "outputId": "1cbc9b62-0e57-4cb8-d5d9-edbeea0c5d64"
      },
      "execution_count": 9,
      "outputs": [
        {
          "output_type": "stream",
          "name": "stdout",
          "text": [
            "Find-S: ['?' 'Male' '?' 'Clothing' '?']\n",
            "\n",
            "Candidate Elimination:\n",
            "Specific Boundary: [['?', 'Male', '?', 'Clothing', '?']]\n",
            "General Boundary (as matrix):\n",
            "['?', '?', '?', '?', '?']\n",
            "['?', '?', '?', 'Clothing', '?']\n",
            "['?', 'Male', '?', '?', '?']\n",
            "['?', 'Male', '?', 'Clothing', '?']\n"
          ]
        }
      ]
    }
  ]
}