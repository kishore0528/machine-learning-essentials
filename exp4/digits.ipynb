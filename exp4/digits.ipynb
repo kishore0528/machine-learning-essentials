{
  "nbformat": 4,
  "nbformat_minor": 0,
  "metadata": {
    "colab": {
      "provenance": []
    },
    "kernelspec": {
      "name": "python3",
      "display_name": "Python 3"
    },
    "language_info": {
      "name": "python"
    }
  },
  "cells": [
    {
      "cell_type": "code",
      "execution_count": 5,
      "metadata": {
        "colab": {
          "base_uri": "https://localhost:8080/",
          "height": 862
        },
        "id": "cRQp9Mfo6Xdg",
        "outputId": "18c101d4-1578-4b60-9953-0d12726a2640"
      },
      "outputs": [
        {
          "output_type": "stream",
          "name": "stdout",
          "text": [
            "Training the model...\n",
            "Model training complete!\n",
            "\n",
            "Model Accuracy on test data: 96.94%\n",
            "\n",
            "\n",
            "--- Classification Report ---\n",
            "\n",
            "              precision    recall  f1-score   support\n",
            "\n",
            "           0       0.97      1.00      0.99        33\n",
            "           1       0.97      1.00      0.98        28\n",
            "           2       1.00      1.00      1.00        33\n",
            "           3       0.94      0.97      0.96        34\n",
            "           4       1.00      1.00      1.00        46\n",
            "           5       0.94      0.96      0.95        47\n",
            "           6       0.97      0.97      0.97        35\n",
            "           7       1.00      0.94      0.97        34\n",
            "           8       0.97      0.93      0.95        30\n",
            "           9       0.95      0.93      0.94        40\n",
            "\n",
            "    accuracy                           0.97       360\n",
            "   macro avg       0.97      0.97      0.97       360\n",
            "weighted avg       0.97      0.97      0.97       360\n",
            "\n"
          ]
        },
        {
          "output_type": "display_data",
          "data": {
            "text/plain": [
              "<Figure size 640x480 with 1 Axes>"
            ],
            "image/png": "[encoded data removed]"
          },
          "metadata": {}
        }
      ],
      "source": [
        "import matplotlib.pyplot as plt\n",
        "from sklearn.datasets import load_digits\n",
        "from sklearn.model_selection import train_test_split\n",
        "from sklearn.neural_network import MLPClassifier\n",
        "from sklearn.metrics import accuracy_score, classification_report\n",
        "import numpy as np\n",
        "from PIL import Image\n",
        "\n",
        "digits = load_digits()\n",
        "X = digits.data\n",
        "y = digits.target\n",
        "\n",
        "X = X / 16.0\n",
        "X_train, X_test, y_train, y_test = train_test_split(X, y, test_size=0.2, random_state=42)\n",
        "\n",
        "model = MLPClassifier(hidden_layer_sizes=(50, 50), max_iter=1000, random_state=42)\n",
        "print(\"Training the model...\")\n",
        "model.fit(X_train, y_train)\n",
        "print(\"Model training complete!\")\n",
        "\n",
        "y_pred = model.predict(X_test)\n",
        "accuracy = accuracy_score(y_test, y_pred)\n",
        "print(f\"\\nModel Accuracy on test data: {accuracy * 100:.2f}%\\n\")\n",
        "print(\"\\n--- Classification Report ---\\n\")\n",
        "print(classification_report(y_test, y_pred))\n",
        "\n",
        "def predict_image(path):\n",
        "    img = Image.open(path).convert('L').resize((8, 8))\n",
        "    img = 255 - np.array(img)\n",
        "    img = (img / 255.0) * 16.0\n",
        "    sample = img.flatten().reshape(1, -1)\n",
        "    pred = model.predict(sample)[0]\n",
        "    plt.imshow(img, cmap='gray')\n",
        "    plt.title(f\"Prediction: {pred}\")\n",
        "    plt.axis('off')\n",
        "    plt.show()\n",
        "\n",
        "predict_image(\"download.jpg\")\n",
        "\n"
      ]
    }
  ]
}